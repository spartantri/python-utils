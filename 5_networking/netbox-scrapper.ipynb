{
 "cells": [
  {
   "cell_type": "code",
   "execution_count": 12,
   "id": "2bbc51a0-d5d0-4a62-8894-ff0c291744e0",
   "metadata": {},
   "outputs": [],
   "source": [
    "import requests\n",
    "import json"
   ]
  },
  {
   "cell_type": "code",
   "execution_count": 13,
   "id": "5e0b22c0-9a28-4e38-9468-2aa519ab8a30",
   "metadata": {},
   "outputs": [],
   "source": [
    "Headers={'Cookie': '<ENTER YOUR SESSION COOKIE HERE>'}"
   ]
  },
  {
   "cell_type": "code",
   "execution_count": 2,
   "id": "dd2f472f-aeb7-4a9a-b3e8-03c8a068f943",
   "metadata": {},
   "outputs": [],
   "source": [
    "url = 'https://netbox.<DOMAIN>.com/api/ipam/ip-addresses/?format=json'"
   ]
  },
  {
   "cell_type": "code",
   "execution_count": 3,
   "id": "05bc2843-678a-40ab-a6b4-23a0445cf455",
   "metadata": {},
   "outputs": [
    {
     "name": "stdout",
     "output_type": "stream",
     "text": [
      "Scrapping https://netbox.<DOMAIN>.com/api/ipam/ip-addresses/?format=json\n"
     ]
    }
   ],
   "source": [
    "print(f\"Scrapping {url}\")\n",
    "response = requests.request(\"GET\", url, headers=Headers).json()\n",
    "c=0\n",
    "f=open('ipdb.csv','w')\n",
    "f_bulk=open('ipdb-bulk.jsonline','w')"
   ]
  },
  {
   "cell_type": "code",
   "execution_count": null,
   "id": "4b1ee2f0-71b2-4efb-9ac3-f126131b56c7",
   "metadata": {},
   "outputs": [],
   "source": [
    "while True:\n",
    "    if 'next' in response.keys():\n",
    "        url = response['next']\n",
    "        for item in response['results']:\n",
    "            f_bulk.write(json.dumps(item))\n",
    "            f_bulk.write('\\n')\n",
    "            f.write(\",\".join([item['dns_name'], item['address']]))\n",
    "            f.write('\\n')\n",
    "        print(url)\n",
    "        try:\n",
    "            response=requests.request(\"GET\", url,headers=Headers).json()\n",
    "        except:\n",
    "            break\n",
    "        c+=1\n",
    "        if url==None:\n",
    "            break\n",
    "    else:\n",
    "        f_bulk.write(json.dumps(item))\n",
    "        f_bulk.write('\\n')\n",
    "        f.write(\",\".join([item['dns_name'], item['address']]))\n",
    "        f.write('\\n')\n",
    "        break"
   ]
  },
  {
   "cell_type": "code",
   "execution_count": null,
   "id": "569a0127-a72c-43a1-8f84-c9af93840f5a",
   "metadata": {},
   "outputs": [],
   "source": [
    "f.close()\n",
    "f_bulk.close()"
   ]
  },
  {
   "cell_type": "code",
   "execution_count": null,
   "id": "9af5a878-0d83-4af2-93bd-238a41dd8814",
   "metadata": {},
   "outputs": [],
   "source": [
    "print(\"Performed %d queries\" % (c))"
   ]
  }
 ],
 "metadata": {
  "kernelspec": {
   "display_name": "Python 3 (ipykernel)",
   "language": "python",
   "name": "python3"
  },
  "language_info": {
   "codemirror_mode": {
    "name": "ipython",
    "version": 3
   },
   "file_extension": ".py",
   "mimetype": "text/x-python",
   "name": "python",
   "nbconvert_exporter": "python",
   "pygments_lexer": "ipython3",
   "version": "3.9.6"
  }
 },
 "nbformat": 4,
 "nbformat_minor": 5
}
