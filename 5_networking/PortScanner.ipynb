{
 "cells": [
  {
   "cell_type": "code",
   "execution_count": 1,
   "id": "375dca0d-e1a7-4dcf-a170-167ad4bdf62c",
   "metadata": {},
   "outputs": [],
   "source": [
    "import logging\n",
    "import socket\n",
    "import requests\n",
    "import re\n",
    "from os.path import exists\n",
    "from requests.models import ProtocolError"
   ]
  },
  {
   "cell_type": "code",
   "execution_count": 2,
   "id": "a818ac26-9353-4336-8a0c-cb86b26cb233",
   "metadata": {},
   "outputs": [],
   "source": [
    "logging.basicConfig(level=logging.INFO, format='%(levelname)s: %(message)s')\n",
    "logger = logging.getLogger(__name__)"
   ]
  },
  {
   "cell_type": "code",
   "execution_count": 3,
   "id": "8de53521-c68a-4ecc-9ee1-b21e0ff0343c",
   "metadata": {},
   "outputs": [],
   "source": [
    "if exists(\"nmap-services\"):\n",
    "    servicesfile = open(\"nmap-services\", 'r').read()\n",
    "else:\n",
    "    servicesfile_url=\"https://raw.githubusercontent.com/nmap/nmap/master/nmap-services\"\n",
    "    servicesfile = requests.get(servicesfile_url).text\n",
    "    with open(\"nmap-services\", 'w') as f:\n",
    "        f.write(servicesfile)"
   ]
  },
  {
   "cell_type": "code",
   "execution_count": 4,
   "id": "4b48df79-d127-40f1-83ec-b80e9430ad63",
   "metadata": {},
   "outputs": [],
   "source": [
    "servicere = re.compile(r\"(.+)\\t(\\d+)\\/(tcp|udp)\\t\\b(0\\.\\d+)\")"
   ]
  },
  {
   "cell_type": "code",
   "execution_count": 5,
   "id": "a49cf8c8-9960-436c-9ab4-21c015bbe2bb",
   "metadata": {},
   "outputs": [],
   "source": [
    "class service:\n",
    "    def __init__(self, name, port, protocol, frequency):\n",
    "        self.name = name\n",
    "        self.port = int(port)\n",
    "        self.protocol = protocol\n",
    "        self.frequency = float(frequency)\n",
    "    def __repr__(self):\n",
    "        return \"%s\\t%d/%s\\t%f\" % (self.name, self.port, self.protocol, self.frequency)\n",
    "    def __eq__(self, other):\n",
    "        return ((self.name, self.port, self.protocol, self.frequency) == (other.name, other.port, other.protocol, other.frequency))\n",
    "    def __ne__(self, other):\n",
    "        return not (self == other)"
   ]
  },
  {
   "cell_type": "code",
   "execution_count": 60,
   "id": "5e55a667-5bc0-482b-9b47-9d961bf02348",
   "metadata": {},
   "outputs": [],
   "source": [
    "def servicefrequency(item):\n",
    "    return item.frequency\n",
    "\n",
    "def top(servicelist, protocol=None, limit=100):\n",
    "    if len(servicelist)>limit:\n",
    "        final_item = limit\n",
    "    else:\n",
    "        final_item = len(servicelist)\n",
    "    logger.debug(\"Limit set to %d\" % (final_item))\n",
    "    if not protocol:\n",
    "        return sorted(servicelist, key=servicefrequency, reverse=True)[:final_item]\n",
    "    else:\n",
    "        return [s for s in sorted(servicelist, key=servicefrequency, reverse=True) if s.protocol==protocol][:final_item]"
   ]
  },
  {
   "cell_type": "code",
   "execution_count": 142,
   "id": "e87b5504-06d9-41de-86f1-52e8dd30cd36",
   "metadata": {},
   "outputs": [],
   "source": [
    "def get_port_range(port_range):\n",
    "    range_rx = re.compile(r'^\\s*(\\d+)-(\\d+)\\s*$|^(.*)$')\n",
    "    ports = []\n",
    "    service_list = None\n",
    "    for range_item in port_range.split(','):\n",
    "        range_string = range_rx.match(range_item).groups()\n",
    "        if range_string[0] and range_string[1]:\n",
    "            range_start = int(range_string[0])\n",
    "            range_end = int(range_string[1])+1\n",
    "            if range_end < range_start:\n",
    "                logger.error(\"Invalid port_range value received\")\n",
    "                return\n",
    "            for port in range(range_start, range_end):\n",
    "                ports.append(port)\n",
    "        if range_string[2]:\n",
    "            try:\n",
    "                ports.append(int(range_string[2]))\n",
    "            except ValueError:\n",
    "                if not service_list:\n",
    "                    with open(\"nmap-services\", 'r') as f:\n",
    "                        service_list = servicere.findall(f.read())\n",
    "                [ports.append(service(*sname).port) for sname in service_list if sname[0] == range_string[2]]\n",
    "            except:\n",
    "                logger.error(\"Invalid port_range value received\")\n",
    "                pass\n",
    "    logger.debug(\"Identified ports: %s\" % ','.join([str(p) for p in ports]))\n",
    "    unique_ports  = {}\n",
    "    for port in ports:\n",
    "        unique_ports[port] = 1\n",
    "    unique_ports.keys()\n",
    "    return unique_ports.keys()"
   ]
  },
  {
   "cell_type": "code",
   "execution_count": 197,
   "id": "378e785a-7d6a-4d8e-8f6c-947a26f3dca5",
   "metadata": {},
   "outputs": [],
   "source": [
    "def portscan(host, services_to_scan=None, port_range=None, timeout=0.5):\n",
    "    try:\n",
    "        socket.setdefaulttimeout(float(timeout))\n",
    "    except:\n",
    "        socket.setdefaulttimeout(1)\n",
    "    port_list = None\n",
    "    if not services_to_scan and not port_range:\n",
    "        services_to_scan = top([service(*s) for s in servicere.findall(servicesfile)], protocol=\"tcp\")\n",
    "    if services_to_scan and port_range:\n",
    "        logger.error(\"Use only either services_to_scan or port_range.\")\n",
    "        return\n",
    "    if port_range and not services_to_scan:\n",
    "        port_list = get_port_range(port_range)\n",
    "        services_to_scan = [service('', port, 'tcp', 0.0) for port in port_list]\n",
    "    for item in services_to_scan:\n",
    "        sock = socket.socket(socket.AF_INET, socket.SOCK_STREAM)\n",
    "        if sock.connect_ex((host,int(item.port))) == 0:\n",
    "            logger.info(\"Host %s - Port %s/%d is open\" % (host, item.protocol, item.port))\n",
    "        else:\n",
    "            logger.info(\"Host %s - Port %s/%d is closed\" % (host, item.protocol, item.port))"
   ]
  },
  {
   "cell_type": "code",
   "execution_count": 201,
   "id": "1bfaa944-1ea7-4f43-a076-453925178d7b",
   "metadata": {},
   "outputs": [
    {
     "name": "stderr",
     "output_type": "stream",
     "text": [
      "INFO: Host 127.0.0.1 - Port tcp/80 is closed\n",
      "INFO: Host 127.0.0.1 - Port tcp/23 is closed\n",
      "INFO: Host 127.0.0.1 - Port tcp/443 is closed\n",
      "INFO: Host 127.0.0.1 - Port tcp/21 is closed\n",
      "INFO: Host 127.0.0.1 - Port tcp/22 is open\n"
     ]
    }
   ],
   "source": [
    "host=\"127.0.0.1\"\n",
    "services_to_scan = top([service(*s) for s in servicere.findall(servicesfile)], protocol=\"tcp\", limit=5)\n",
    "#portscan(host, port_range='80,23,443,21,22,80')\n",
    "portscan(host, services_to_scan=services_to_scan, timeout=0.001)"
   ]
  },
  {
   "cell_type": "code",
   "execution_count": null,
   "id": "6798d070-d127-4b4f-b5fa-db276846eb53",
   "metadata": {},
   "outputs": [],
   "source": []
  }
 ],
 "metadata": {
  "kernelspec": {
   "display_name": "Python 3 (ipykernel)",
   "language": "python",
   "name": "python3"
  },
  "language_info": {
   "codemirror_mode": {
    "name": "ipython",
    "version": 3
   },
   "file_extension": ".py",
   "mimetype": "text/x-python",
   "name": "python",
   "nbconvert_exporter": "python",
   "pygments_lexer": "ipython3",
   "version": "3.9.6"
  }
 },
 "nbformat": 4,
 "nbformat_minor": 5
}
